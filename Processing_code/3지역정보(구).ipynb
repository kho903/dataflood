{
 "cells": [
  {
   "cell_type": "markdown",
   "metadata": {},
   "source": [
    "# !! 라이브러리 geopadnas 설치가 우선시 되어야함!\n",
    "conda가 아닌 환경에서 geopandas설치는 다음과 같은 라이브러리들이 준비되어야함.<br>\n",
    "- 윈도우의 경우 pipwin을 통해 설치하여야한다\n",
    "<p>pip install wheel<br>\n",
    "pip install pipwin<br>\n",
    "pipwin install pandas<br>\n",
    "pipwin install shapely<br>\n",
    "pipwin install gdal<br>\n",
    "pipwin install fiona<br>\n",
    "pipwin install pyproj<br>\n",
    "pipwin install six<br>\n",
    "pipwin install rtree<br>\n",
    "pipwin install geopandas</p>\n",
    "\n",
    "- 윈도우가 아니고 conda를 사용할 경우<br>\n",
    "conda install --channel conda-forge geopandas<br>\n",
    "\n",
    "- 윈도우가 아닌경우\n",
    "<p>pip install wheel<br>\n",
    "pip install pandas<br>\n",
    "pip install shapely<br>\n",
    "pip install gdal<br>\n",
    "pip install fiona<br>\n",
    "pip install six<br>\n",
    "pip install pyproj<br>\n",
    "pip install six<br>\n",
    "pip install rtree<br>\n",
    "pip install geopandas</p>\n",
    "\n",
    "<strong>\n",
    "위 과정을 거쳐 geopandas를 설치하여야함.</strong>\n"
   ]
  },
  {
   "cell_type": "markdown",
   "metadata": {},
   "source": [
    "## Windows python환경 (windows가 아닌경우 위 참조)"
   ]
  },
  {
   "cell_type": "code",
   "execution_count": null,
   "metadata": {},
   "outputs": [],
   "source": [
    "!pip install wheel"
   ]
  },
  {
   "cell_type": "code",
   "execution_count": null,
   "metadata": {},
   "outputs": [],
   "source": [
    "!pip install pipwin"
   ]
  },
  {
   "cell_type": "code",
   "execution_count": null,
   "metadata": {},
   "outputs": [],
   "source": [
    "!pipwin install pandas"
   ]
  },
  {
   "cell_type": "code",
   "execution_count": null,
   "metadata": {},
   "outputs": [],
   "source": [
    "!pipwin install shapely"
   ]
  },
  {
   "cell_type": "code",
   "execution_count": null,
   "metadata": {},
   "outputs": [],
   "source": [
    "!pipwin install gdal"
   ]
  },
  {
   "cell_type": "code",
   "execution_count": null,
   "metadata": {},
   "outputs": [],
   "source": [
    "!pipwin install fiona"
   ]
  },
  {
   "cell_type": "code",
   "execution_count": null,
   "metadata": {},
   "outputs": [],
   "source": [
    "!pipwin install pyproj"
   ]
  },
  {
   "cell_type": "code",
   "execution_count": null,
   "metadata": {},
   "outputs": [],
   "source": [
    "!pipwin install six"
   ]
  },
  {
   "cell_type": "code",
   "execution_count": null,
   "metadata": {},
   "outputs": [],
   "source": [
    "!pipwin install rtree"
   ]
  },
  {
   "cell_type": "code",
   "execution_count": null,
   "metadata": {},
   "outputs": [],
   "source": [
    "!pipwin install geopandas"
   ]
  },
  {
   "cell_type": "markdown",
   "metadata": {},
   "source": [
    "# conda 환경"
   ]
  },
  {
   "cell_type": "code",
   "execution_count": null,
   "metadata": {},
   "outputs": [],
   "source": [
    "conda install --channel conda-forge geopandas"
   ]
  },
  {
   "cell_type": "markdown",
   "metadata": {},
   "source": [
    "# 3. 구 비율 데이터 만들기 "
   ]
  },
  {
   "cell_type": "code",
   "execution_count": null,
   "metadata": {},
   "outputs": [],
   "source": [
    "import pandas as pd\n",
    "import geopandas as gpd\n",
    "import numpy as np"
   ]
  },
  {
   "cell_type": "markdown",
   "metadata": {},
   "source": [
    "# 사용할 util용 Code 로딩"
   ]
  },
  {
   "cell_type": "code",
   "execution_count": null,
   "metadata": {},
   "outputs": [],
   "source": [
    "code = pd.read_csv('../Data/processing_data/2nd/busan_code.csv')"
   ]
  },
  {
   "cell_type": "code",
   "execution_count": null,
   "metadata": {},
   "outputs": [],
   "source": [
    "sig_code = code[code['DONG'].isna()].reset_index(drop=True)"
   ]
  },
  {
   "cell_type": "code",
   "execution_count": null,
   "metadata": {},
   "outputs": [],
   "source": [
    "sig_code = sig_code.drop(columns='DONG')"
   ]
  },
  {
   "cell_type": "markdown",
   "metadata": {},
   "source": [
    "# 펌프작업"
   ]
  },
  {
   "cell_type": "code",
   "execution_count": null,
   "metadata": {},
   "outputs": [],
   "source": [
    "pump_data1 = pd.read_csv('../data/rawdata/busan_pump_data.csv', encoding='euc-kr')\n",
    "pump_data2 = gpd.read_file('../Data/rawdata/FL_PUMP/FL_PUMP_SP.shp')\n",
    "pump_data1.iloc[29:31,0:1] = '금정구'\n",
    "pump_data1.iloc[26:27,0:1] = '연제구'\n",
    "code['CODE'] = code['CODE'].apply(str)\n",
    "code\n",
    "pump_data2 = pd.merge(code, pump_data2, left_on='CODE', right_on='ADM_CD', how='inner')\n",
    "pump_data2.shape\n",
    "pump_data2 = pump_data2.groupby(by='ZONE').count()['CODE']\n",
    "pump_data2.sum()\n",
    "pump_data1 = pump_data1.groupby(by='구군').count()['배수펌프장명']\n",
    "pump_data = pump_data1.add(pump_data2,fill_value=0)\n",
    "pump_data = pump_data.reset_index()\n",
    "pump_data.rename(columns={'index':'ZONE',0:'PUMP_COUNT'},inplace=True)\n",
    "pump_data['PUMP_COUNT'] = pump_data['PUMP_COUNT'].astype(int)\n",
    "PIH_merge = pd.merge(pump_data,sig_code,on=['ZONE'],how='inner')"
   ]
  },
  {
   "cell_type": "markdown",
   "metadata": {},
   "source": [
    "# 불투수면 작업"
   ]
  },
  {
   "cell_type": "markdown",
   "metadata": {},
   "source": [
    "- 전국 데이터에서 부산 데이터를 뽑아냄 불투수면의 경우 법정동코드로 되어 있고 \n",
    "-  부산의 법정동코드는 21로 시작하는데 부산의 '구' 데이터만 가져온다."
   ]
  },
  {
   "cell_type": "code",
   "execution_count": null,
   "metadata": {},
   "outputs": [],
   "source": [
    "imper = pd.read_excel('../data/rawdata/imper_ratio_data.xlsx')\n",
    "imper['코드'] = imper['코드'].apply(str)\n",
    "imper = imper[imper['코드'].str.startswith('21')].reset_index(drop=True)\n",
    "imper = imper.drop(index=0).reset_index(drop=True)\n",
    "imper = imper.drop(columns=['코드','기준연도','불투수면 면적(㎢)'])\n",
    "imper.rename(columns={'시도시군구':'ZONE', '불투수면 비율(%)':'IMP_SUR_RATIO',\\\n",
    "                              '행정구역면적(㎢)':'ZONE_AREA'}, inplace=True)\n",
    "imper['ZONE_AREA'] = round(imper['ZONE_AREA'],2) * 10000000\n",
    "imper['IMP_SUR_RATIO'] = round(imper['IMP_SUR_RATIO'],2)\n",
    "\n",
    "imper.sort_values('ZONE',inplace=True, ascending=False, ignore_index=True)\n"
   ]
  },
  {
   "cell_type": "code",
   "execution_count": null,
   "metadata": {},
   "outputs": [],
   "source": [
    "PIH_merge = pd.merge(PIH_merge,imper, on='ZONE', how='outer')"
   ]
  },
  {
   "cell_type": "code",
   "execution_count": null,
   "metadata": {},
   "outputs": [],
   "source": [
    "PIH_merge"
   ]
  },
  {
   "cell_type": "code",
   "execution_count": null,
   "metadata": {},
   "outputs": [],
   "source": [
    "PIH_merge.fillna(0,inplace=True)\n",
    "PIH_merge['PUMP_RATIO'] = PIH_merge['PUMP_COUNT'] * 10 / PIH_merge['ZONE_AREA']\n",
    "PIH_merge.drop(columns='PUMP_COUNT', inplace=True)"
   ]
  },
  {
   "cell_type": "markdown",
   "metadata": {},
   "source": [
    "# 침수빈도"
   ]
  },
  {
   "cell_type": "code",
   "execution_count": null,
   "metadata": {},
   "outputs": [],
   "source": [
    "df = pd.read_csv(\"../Data/processing_data/1st/busan_flood_geo.csv\")\n",
    "df1 = df.copy()\n",
    "a = df1[[\"ZONE\",\"F_BEGIN_DE\"]]\n",
    "b = a.copy()\n",
    "b.drop_duplicates([\"ZONE\",\"F_BEGIN_DE\"],inplace=True)\n",
    "b.astype({\"ZONE\":str})\n",
    "\n",
    "# 가중치 구하기\n",
    "zone = ['연제구', '서구', '동구', '영도구', '부산진구', '동래구', '남구', '북구', '해운대구', '사하구',\n",
    "       '금정구', '강서구', '수영구', '사상구', '기장군']\n",
    "count = [4,1,1,2,1,1,1,1,3,5,1,3,4,1,1]\n",
    "w = pd.DataFrame({\"ZONE\":zone,\"COUNT\":count})\n",
    "bins = pd.DataFrame({\"bin\":w.groupby(\"COUNT\").size()})\n",
    "bins[\"percentage\"]=round((bins[\"bin\"]/bins[\"bin\"].sum())*100,2)\n",
    "bins[\"COUNT1\"]=[1,2,3,4,5]\n",
    "F_bin = pd.merge(w,bins,how=\"inner\",left_on=\"COUNT\",right_on=\"COUNT1\")\n",
    "F_bin.drop([\"COUNT1\",\"bin\"],axis=1,inplace=True)\n",
    "F_bin.rename(columns={\"COUNT\":\"F_GRADE\",\"percentage\":\"F_PERCENTAGE\"},inplace=True)"
   ]
  },
  {
   "cell_type": "code",
   "execution_count": null,
   "metadata": {},
   "outputs": [],
   "source": [
    "F_bin.info()"
   ]
  },
  {
   "cell_type": "code",
   "execution_count": null,
   "metadata": {},
   "outputs": [],
   "source": [
    "F_bin\n",
    "F_bin[\"F_WEIGHT\"] = float(1.0)/F_bin[\"F_PERCENTAGE\"]\n",
    "F_bin"
   ]
  },
  {
   "cell_type": "code",
   "execution_count": null,
   "metadata": {},
   "outputs": [],
   "source": [
    "PIH_merge = pd.merge(PIH_merge, F_bin, on='ZONE', how='left')\n",
    "PIH_merge = PIH_merge.fillna(0)"
   ]
  },
  {
   "cell_type": "code",
   "execution_count": null,
   "metadata": {},
   "outputs": [],
   "source": [
    "PIH_merge = PIH_merge.drop(columns='CODE')\n",
    "PIH_merge = pd.merge(PIH_merge, sig_code, on='ZONE', how='left')"
   ]
  },
  {
   "cell_type": "code",
   "execution_count": null,
   "metadata": {},
   "outputs": [],
   "source": [
    "PIH_merge"
   ]
  },
  {
   "cell_type": "code",
   "execution_count": null,
   "metadata": {},
   "outputs": [],
   "source": [
    "PIH_merge.to_csv('../Data/processing_data/2nd/sig_info.csv',encoding='utf-8', index=False)"
   ]
  },
  {
   "cell_type": "markdown",
   "metadata": {},
   "source": [
    "# 불투수면 가중치 계산"
   ]
  },
  {
   "cell_type": "code",
   "execution_count": null,
   "metadata": {},
   "outputs": [],
   "source": [
    "imp_weight = PIH_merge['IMP_SUR_RATIO'].copy()"
   ]
  },
  {
   "cell_type": "code",
   "execution_count": null,
   "metadata": {},
   "outputs": [],
   "source": [
    "for idx,col in enumerate(PIH_merge['IMP_SUR_RATIO']):\n",
    "    if col <= 15:\n",
    "        imp_weight[idx] = col / 6.66\n",
    "    elif col > 15 and col <= 25:\n",
    "        imp_weight[idx] = col / (20 * 2)\n",
    "    elif col > 25 and col <= 40:\n",
    "        imp_weight[idx] = col / (13.33 * 3)\n",
    "    elif col > 40 and col <= 55:\n",
    "        imp_weight[idx] = col / (33.33 * 4)\n",
    "    elif col > 55:\n",
    "        imp_weight[idx] = col / (26.67 * 5)"
   ]
  },
  {
   "cell_type": "code",
   "execution_count": null,
   "metadata": {},
   "outputs": [],
   "source": [
    "PIH_merge['Impervious_Surface_Weight'] = imp_weight"
   ]
  },
  {
   "cell_type": "code",
   "execution_count": null,
   "metadata": {},
   "outputs": [],
   "source": [
    "PIH_merge = PIH_merge[['CODE','ZONE','PUMP_RATIO','F_WEIGHT','Impervious_Surface_Weight' ]]"
   ]
  },
  {
   "cell_type": "code",
   "execution_count": null,
   "metadata": {},
   "outputs": [],
   "source": [
    "PIH_merge.to_csv('../Data/processing_data/2nd/sig_info_weight.csv', encoding='utf-8', index=False)"
   ]
  },
  {
   "cell_type": "code",
   "execution_count": null,
   "metadata": {},
   "outputs": [],
   "source": [
    "PIH_merge.to_csv('../Data/final_data/DB/sig_info_weight.csv', encoding='utf-8', index=False)"
   ]
  }
 ],
 "metadata": {
  "kernelspec": {
   "display_name": "Python 3",
   "language": "python",
   "name": "python3"
  },
  "language_info": {
   "codemirror_mode": {
    "name": "ipython",
    "version": 3
   },
   "file_extension": ".py",
   "mimetype": "text/x-python",
   "name": "python",
   "nbconvert_exporter": "python",
   "pygments_lexer": "ipython3",
   "version": "3.7.6"
  }
 },
 "nbformat": 4,
 "nbformat_minor": 4
}
