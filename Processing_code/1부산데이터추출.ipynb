{
 "cells": [
  {
   "cell_type": "markdown",
   "metadata": {},
   "source": [
    "# 1. 전국 범위의 데이터들을 부산관련 데이터들로 추출\n",
    " - #### <strong>1.1 부산 과거 침수 이력 추출</strong>\n",
    " - #### <strong>1.2 부산 과거 침수 이력에 대한 시간별 강수량 데이터 추출</strong>\n",
    " - #### <strong>1.3 util용 부산 법정동 코드 정리</strong>\n",
    " - #### <strong>1.4 부산 과거 침수 위치 Code 및 지역이름 추가</strong>"
   ]
  },
  {
   "cell_type": "markdown",
   "metadata": {},
   "source": [
    "---\n",
    "## 1.1 부산 과거 침수 이력 추출\n",
    " - FL_DATAUPMNG.csv 파일은 전국 침수 데이터\n",
    " - FL_DATAUPMNG column 의 ADM_CD가 법정동 코드\n",
    " - 부산 법정동 코드는 '26'으로 시작"
   ]
  },
  {
   "cell_type": "code",
   "execution_count": 1,
   "metadata": {},
   "outputs": [],
   "source": [
    "import pandas as pd"
   ]
  },
  {
   "cell_type": "code",
   "execution_count": 2,
   "metadata": {},
   "outputs": [],
   "source": [
    "busan_fl_data = pd.read_csv('../data/rawdata/FL_DATAUPMNG.csv')"
   ]
  },
  {
   "cell_type": "markdown",
   "metadata": {},
   "source": [
    "- ADM_CD type을 int형에서 str형으로 바꾼 후 26으로 시작하는 데이터를 추출"
   ]
  },
  {
   "cell_type": "code",
   "execution_count": 3,
   "metadata": {},
   "outputs": [],
   "source": [
    "busan_fl_data['ADM_CD'] = busan_fl_data['ADM_CD'].apply(str)\n",
    "busan_fl_data = busan_fl_data[busan_fl_data['ADM_CD'].str.startswith('26')].reset_index(drop=True)"
   ]
  },
  {
   "cell_type": "markdown",
   "metadata": {},
   "source": [
    "<br></br>"
   ]
  },
  {
   "cell_type": "markdown",
   "metadata": {},
   "source": [
    "---\n",
    "## 1.2 부산 과거 침수 이력에 대한 시간별 강수량 데이터 추출\n",
    " - FL_TIMERAIN.csv는 과거 침수 이력의 기간 동안의 시간별 강수량 데이터를 가지고 있다.\n",
    " - FL_DATAUPMNG.csv 파일과 SEQ(사건 순서)로 묶여 있다.\n",
    " - 부산 과거 침수 이력 data의 SEQ(사건 순서)에 따른 강수량 데이터를 추출한다.\n",
    " 1. 부산 과거 침수 이력 data로 부터 사건 순서에 대한 SEQ 정보를 추출한다.\n",
    " 2. 이후 FL_TIMERAIN.csv에서 해당하는 사건 SEQ에 대한 정보만 추출한다."
   ]
  },
  {
   "cell_type": "code",
   "execution_count": 4,
   "metadata": {},
   "outputs": [],
   "source": [
    "seq = busan_fl_data['SEQ'].unique()"
   ]
  },
  {
   "cell_type": "code",
   "execution_count": 5,
   "metadata": {},
   "outputs": [],
   "source": [
    "rain_data = pd.read_csv('../data/rawdata/FL_TIMERAIN.csv')"
   ]
  },
  {
   "cell_type": "code",
   "execution_count": 6,
   "metadata": {},
   "outputs": [],
   "source": [
    "busan_rain_data = rain_data[rain_data['SEQ'].isin(seq)].reset_index(drop=True)"
   ]
  },
  {
   "cell_type": "code",
   "execution_count": 7,
   "metadata": {},
   "outputs": [
    {
     "data": {
      "text/html": [
       "<div>\n",
       "<style scoped>\n",
       "    .dataframe tbody tr th:only-of-type {\n",
       "        vertical-align: middle;\n",
       "    }\n",
       "\n",
       "    .dataframe tbody tr th {\n",
       "        vertical-align: top;\n",
       "    }\n",
       "\n",
       "    .dataframe thead th {\n",
       "        text-align: right;\n",
       "    }\n",
       "</style>\n",
       "<table border=\"1\" class=\"dataframe\">\n",
       "  <thead>\n",
       "    <tr style=\"text-align: right;\">\n",
       "      <th></th>\n",
       "      <th>ADM_CD</th>\n",
       "      <th>HOUR_RAINFALL</th>\n",
       "      <th>SEQ</th>\n",
       "      <th>PRECI_YYMMDDHH</th>\n",
       "      <th>PRECI_HH</th>\n",
       "    </tr>\n",
       "  </thead>\n",
       "  <tbody>\n",
       "    <tr>\n",
       "      <th>0</th>\n",
       "      <td>2629000000</td>\n",
       "      <td>0.0</td>\n",
       "      <td>30907</td>\n",
       "      <td>20110727</td>\n",
       "      <td>1</td>\n",
       "    </tr>\n",
       "    <tr>\n",
       "      <th>1</th>\n",
       "      <td>2629000000</td>\n",
       "      <td>0.0</td>\n",
       "      <td>30907</td>\n",
       "      <td>20110727</td>\n",
       "      <td>2</td>\n",
       "    </tr>\n",
       "    <tr>\n",
       "      <th>2</th>\n",
       "      <td>2629000000</td>\n",
       "      <td>3.0</td>\n",
       "      <td>30907</td>\n",
       "      <td>20110727</td>\n",
       "      <td>3</td>\n",
       "    </tr>\n",
       "    <tr>\n",
       "      <th>3</th>\n",
       "      <td>2629000000</td>\n",
       "      <td>11.5</td>\n",
       "      <td>30907</td>\n",
       "      <td>20110727</td>\n",
       "      <td>4</td>\n",
       "    </tr>\n",
       "    <tr>\n",
       "      <th>4</th>\n",
       "      <td>2629000000</td>\n",
       "      <td>0.0</td>\n",
       "      <td>30907</td>\n",
       "      <td>20110727</td>\n",
       "      <td>5</td>\n",
       "    </tr>\n",
       "  </tbody>\n",
       "</table>\n",
       "</div>"
      ],
      "text/plain": [
       "       ADM_CD  HOUR_RAINFALL    SEQ  PRECI_YYMMDDHH  PRECI_HH\n",
       "0  2629000000            0.0  30907        20110727         1\n",
       "1  2629000000            0.0  30907        20110727         2\n",
       "2  2629000000            3.0  30907        20110727         3\n",
       "3  2629000000           11.5  30907        20110727         4\n",
       "4  2629000000            0.0  30907        20110727         5"
      ]
     },
     "execution_count": 7,
     "metadata": {},
     "output_type": "execute_result"
    }
   ],
   "source": [
    "busan_rain_data.head()"
   ]
  },
  {
   "cell_type": "code",
   "execution_count": 8,
   "metadata": {},
   "outputs": [],
   "source": [
    "busan_rain_data.to_csv('../data/processing_data/1st/busan_rain_data.csv', index=False, encoding='utf-8')"
   ]
  },
  {
   "cell_type": "markdown",
   "metadata": {},
   "source": [
    "---\n",
    "## 1.3 util용 부산 코드 정리\n",
    "  - 사용할 코드는 시군구 또는 읍면동 코드이므로 n2, n3 값만 존재하는 컬럼만 사용한다."
   ]
  },
  {
   "cell_type": "code",
   "execution_count": 9,
   "metadata": {},
   "outputs": [],
   "source": [
    "busan_code = pd.read_excel('../data/rawdata/busan_code_data.xls')"
   ]
  },
  {
   "cell_type": "code",
   "execution_count": 10,
   "metadata": {},
   "outputs": [],
   "source": [
    "busan_code[['n1','n2','n3','n4']] = pd.DataFrame(busan_code['법정동명'].str.split(' ',3).tolist())"
   ]
  },
  {
   "cell_type": "code",
   "execution_count": 11,
   "metadata": {},
   "outputs": [],
   "source": [
    "a = busan_code['n2'].notnull()"
   ]
  },
  {
   "cell_type": "code",
   "execution_count": 12,
   "metadata": {},
   "outputs": [],
   "source": [
    "b = busan_code['n4'].isnull()"
   ]
  },
  {
   "cell_type": "code",
   "execution_count": 13,
   "metadata": {},
   "outputs": [],
   "source": [
    "busan_code = busan_code[a & b]\n",
    "busan_code = busan_code.drop(columns=['n1','n4','법정동명']).reset_index(drop=True)"
   ]
  },
  {
   "cell_type": "code",
   "execution_count": 14,
   "metadata": {},
   "outputs": [],
   "source": [
    "busan_code = busan_code.rename(columns={'법정동코드':'CODE','n2':'ZONE','n3':'DONG'})"
   ]
  },
  {
   "cell_type": "code",
   "execution_count": 15,
   "metadata": {},
   "outputs": [
    {
     "data": {
      "text/html": [
       "<div>\n",
       "<style scoped>\n",
       "    .dataframe tbody tr th:only-of-type {\n",
       "        vertical-align: middle;\n",
       "    }\n",
       "\n",
       "    .dataframe tbody tr th {\n",
       "        vertical-align: top;\n",
       "    }\n",
       "\n",
       "    .dataframe thead th {\n",
       "        text-align: right;\n",
       "    }\n",
       "</style>\n",
       "<table border=\"1\" class=\"dataframe\">\n",
       "  <thead>\n",
       "    <tr style=\"text-align: right;\">\n",
       "      <th></th>\n",
       "      <th>CODE</th>\n",
       "      <th>ZONE</th>\n",
       "      <th>DONG</th>\n",
       "    </tr>\n",
       "  </thead>\n",
       "  <tbody>\n",
       "    <tr>\n",
       "      <th>0</th>\n",
       "      <td>2611000000</td>\n",
       "      <td>중구</td>\n",
       "      <td>None</td>\n",
       "    </tr>\n",
       "    <tr>\n",
       "      <th>1</th>\n",
       "      <td>2611010100</td>\n",
       "      <td>중구</td>\n",
       "      <td>영주동</td>\n",
       "    </tr>\n",
       "    <tr>\n",
       "      <th>2</th>\n",
       "      <td>2611010200</td>\n",
       "      <td>중구</td>\n",
       "      <td>대창동1가</td>\n",
       "    </tr>\n",
       "    <tr>\n",
       "      <th>3</th>\n",
       "      <td>2611010300</td>\n",
       "      <td>중구</td>\n",
       "      <td>대창동2가</td>\n",
       "    </tr>\n",
       "    <tr>\n",
       "      <th>4</th>\n",
       "      <td>2611010400</td>\n",
       "      <td>중구</td>\n",
       "      <td>중앙동1가</td>\n",
       "    </tr>\n",
       "    <tr>\n",
       "      <th>...</th>\n",
       "      <td>...</td>\n",
       "      <td>...</td>\n",
       "      <td>...</td>\n",
       "    </tr>\n",
       "    <tr>\n",
       "      <th>203</th>\n",
       "      <td>2671025000</td>\n",
       "      <td>기장군</td>\n",
       "      <td>기장읍</td>\n",
       "    </tr>\n",
       "    <tr>\n",
       "      <th>204</th>\n",
       "      <td>2671025300</td>\n",
       "      <td>기장군</td>\n",
       "      <td>장안읍</td>\n",
       "    </tr>\n",
       "    <tr>\n",
       "      <th>205</th>\n",
       "      <td>2671025600</td>\n",
       "      <td>기장군</td>\n",
       "      <td>정관읍</td>\n",
       "    </tr>\n",
       "    <tr>\n",
       "      <th>206</th>\n",
       "      <td>2671031000</td>\n",
       "      <td>기장군</td>\n",
       "      <td>일광면</td>\n",
       "    </tr>\n",
       "    <tr>\n",
       "      <th>207</th>\n",
       "      <td>2671033000</td>\n",
       "      <td>기장군</td>\n",
       "      <td>철마면</td>\n",
       "    </tr>\n",
       "  </tbody>\n",
       "</table>\n",
       "<p>208 rows × 3 columns</p>\n",
       "</div>"
      ],
      "text/plain": [
       "           CODE ZONE   DONG\n",
       "0    2611000000   중구   None\n",
       "1    2611010100   중구    영주동\n",
       "2    2611010200   중구  대창동1가\n",
       "3    2611010300   중구  대창동2가\n",
       "4    2611010400   중구  중앙동1가\n",
       "..          ...  ...    ...\n",
       "203  2671025000  기장군    기장읍\n",
       "204  2671025300  기장군    장안읍\n",
       "205  2671025600  기장군    정관읍\n",
       "206  2671031000  기장군    일광면\n",
       "207  2671033000  기장군    철마면\n",
       "\n",
       "[208 rows x 3 columns]"
      ]
     },
     "execution_count": 15,
     "metadata": {},
     "output_type": "execute_result"
    }
   ],
   "source": [
    "busan_code"
   ]
  },
  {
   "cell_type": "code",
   "execution_count": 16,
   "metadata": {},
   "outputs": [],
   "source": [
    "busan_code['CODE'] = busan_code['CODE'].apply(str)"
   ]
  },
  {
   "cell_type": "code",
   "execution_count": 17,
   "metadata": {},
   "outputs": [],
   "source": [
    "busan_code.to_csv('../data/processing_data/2nd/busan_code.csv',  index=False, encoding='utf-8')"
   ]
  },
  {
   "cell_type": "markdown",
   "metadata": {},
   "source": [
    "---\n",
    "## 1.4 부산 과거 침수 위치 Code 및 지역이름 추가\n",
    " - 정리한 부산 과거 침수 이력과 부산 법정동 코드를 결합하여 저장한다."
   ]
  },
  {
   "cell_type": "code",
   "execution_count": 18,
   "metadata": {},
   "outputs": [],
   "source": [
    "busan_flood = pd.merge(busan_fl_data, busan_code, left_on='ADM_CD', right_on='CODE', how='left')"
   ]
  },
  {
   "cell_type": "code",
   "execution_count": 19,
   "metadata": {},
   "outputs": [],
   "source": [
    "busan_flood.to_csv('../data/processing_data/1st/busan_flood_base.csv',encoding='utf-8',index=False)"
   ]
  },
  {
   "cell_type": "markdown",
   "metadata": {},
   "source": [
    "정리 \n",
    "---\n",
    " 만들어진 데이터\n",
    " - 부산 지역 강수량 busan_rain_base.csv\n",
    " - 부산 과거침수이력 데이터 + 불완전한 행정동 코드 busan_flood_base.csv\n",
    " - 부산 법정동 코드(시군구 및 읍면동) busan_code.csv"
   ]
  }
 ],
 "metadata": {
  "kernelspec": {
   "display_name": "Python 3",
   "language": "python",
   "name": "python3"
  },
  "language_info": {
   "codemirror_mode": {
    "name": "ipython",
    "version": 3
   },
   "file_extension": ".py",
   "mimetype": "text/x-python",
   "name": "python",
   "nbconvert_exporter": "python",
   "pygments_lexer": "ipython3",
   "version": "3.7.6"
  },
  "pycharm": {
   "stem_cell": {
    "cell_type": "raw",
    "metadata": {
     "collapsed": false
    },
    "source": []
   }
  }
 },
 "nbformat": 4,
 "nbformat_minor": 4
}
